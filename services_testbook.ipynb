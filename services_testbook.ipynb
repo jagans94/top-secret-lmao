{
 "cells": [
  {
   "cell_type": "code",
   "execution_count": 6,
   "metadata": {},
   "outputs": [
    {
     "ename": "SyntaxError",
     "evalue": "invalid syntax (apis.py, line 61)",
     "output_type": "error",
     "traceback": [
      "Traceback \u001b[0;36m(most recent call last)\u001b[0m:\n",
      "  File \u001b[1;32m\"/home/jagan/.virtualenvs/tfs-client-env/lib/python3.6/site-packages/IPython/core/interactiveshell.py\"\u001b[0m, line \u001b[1;32m3326\u001b[0m, in \u001b[1;35mrun_code\u001b[0m\n    exec(code_obj, self.user_global_ns, self.user_ns)\n",
      "\u001b[0;36m  File \u001b[0;32m\"<ipython-input-6-0f8fd90bdbbf>\"\u001b[0;36m, line \u001b[0;32m2\u001b[0;36m, in \u001b[0;35m<module>\u001b[0;36m\u001b[0m\n\u001b[0;31m    from apis import PredictRequest, PredictionService, ModelSpec\u001b[0m\n",
      "\u001b[0;36m  File \u001b[0;32m\"/home/jagan/Jagan/Projects/Serving/simple-tfs-client/apis.py\"\u001b[0;36m, line \u001b[0;32m61\u001b[0m\n\u001b[0;31m    _model_spec = ModelSpec()self._protobuf.model_spec)\u001b[0m\n\u001b[0m                                ^\u001b[0m\n\u001b[0;31mSyntaxError\u001b[0m\u001b[0;31m:\u001b[0m invalid syntax\n"
     ]
    }
   ],
   "source": [
    "import grpc\n",
    "from apis import PredictRequest, PredictionService, ModelSpec"
   ]
  },
  {
   "cell_type": "code",
   "execution_count": 2,
   "metadata": {},
   "outputs": [],
   "source": [
    "from base import Message"
   ]
  },
  {
   "cell_type": "code",
   "execution_count": 3,
   "metadata": {},
   "outputs": [],
   "source": [
    "def unwrap_pb(obj):\n",
    "    if isinstance(obj, tuple(Message.__subclasses__())):\n",
    "        return obj._protobuf\n",
    "    return obj\n",
    "\n",
    "def wrap_pb(pb, cls):\n",
    "    return cls()._protobuf"
   ]
  },
  {
   "cell_type": "code",
   "execution_count": 5,
   "metadata": {},
   "outputs": [
    {
     "ename": "NameError",
     "evalue": "name 'ModelSpec' is not defined",
     "output_type": "error",
     "traceback": [
      "\u001b[0;31m---------------------------------------------------------------------------\u001b[0m",
      "\u001b[0;31mNameError\u001b[0m                                 Traceback (most recent call last)",
      "\u001b[0;32m<ipython-input-5-e90f366c558c>\u001b[0m in \u001b[0;36m<module>\u001b[0;34m\u001b[0m\n\u001b[0;32m----> 1\u001b[0;31m \u001b[0mmodel_spec\u001b[0m \u001b[0;34m=\u001b[0m \u001b[0mModelSpec\u001b[0m\u001b[0;34m(\u001b[0m\u001b[0mname\u001b[0m\u001b[0;34m=\u001b[0m\u001b[0;34m'mnist'\u001b[0m\u001b[0;34m,\u001b[0m \u001b[0mversion\u001b[0m\u001b[0;34m=\u001b[0m\u001b[0;36m2\u001b[0m\u001b[0;34m,\u001b[0m \u001b[0msignature_name\u001b[0m\u001b[0;34m=\u001b[0m\u001b[0;34m'predict_images'\u001b[0m\u001b[0;34m)\u001b[0m\u001b[0;34m\u001b[0m\u001b[0;34m\u001b[0m\u001b[0m\n\u001b[0m",
      "\u001b[0;31mNameError\u001b[0m: name 'ModelSpec' is not defined"
     ]
    }
   ],
   "source": [
    "model_spec = ModelSpec(name='mnist', version=2, signature_name='predict_images')"
   ]
  },
  {
   "cell_type": "code",
   "execution_count": null,
   "metadata": {},
   "outputs": [],
   "source": [
    "model"
   ]
  },
  {
   "cell_type": "code",
   "execution_count": 44,
   "metadata": {},
   "outputs": [
    {
     "data": {
      "text/plain": [
       "apis.ModelSpec"
      ]
     },
     "execution_count": 44,
     "metadata": {},
     "output_type": "execute_result"
    }
   ],
   "source": [
    "type(model_spec)a"
   ]
  },
  {
   "cell_type": "code",
   "execution_count": 45,
   "metadata": {},
   "outputs": [],
   "source": [
    "msp = model_spec._protobuf"
   ]
  },
  {
   "cell_type": "code",
   "execution_count": 46,
   "metadata": {},
   "outputs": [],
   "source": [
    "msp_w = wrap_pb(msp, ModelSpec)"
   ]
  },
  {
   "cell_type": "code",
   "execution_count": 47,
   "metadata": {},
   "outputs": [
    {
     "data": {
      "text/plain": [
       "[sources.ServableVersionPolicy,\n",
       " config.ModelConfig,\n",
       " apis.ModelSpec,\n",
       " apis.PredictRequest,\n",
       " apis.PredictResponse]"
      ]
     },
     "execution_count": 47,
     "metadata": {},
     "output_type": "execute_result"
    }
   ],
   "source": [
    "Message.__subclasses__()"
   ]
  },
  {
   "cell_type": "code",
   "execution_count": 48,
   "metadata": {},
   "outputs": [],
   "source": [
    "x = unwrap_pb(msp_w)"
   ]
  },
  {
   "cell_type": "code",
   "execution_count": 50,
   "metadata": {},
   "outputs": [
    {
     "data": {
      "text/plain": []
     },
     "execution_count": 50,
     "metadata": {},
     "output_type": "execute_result"
    }
   ],
   "source": []
  },
  {
   "cell_type": "code",
   "execution_count": 52,
   "metadata": {},
   "outputs": [
    {
     "data": {
      "text/plain": [
       "0"
      ]
     },
     "execution_count": 52,
     "metadata": {},
     "output_type": "execute_result"
    }
   ],
   "source": [
    "x.ByteSize()"
   ]
  },
  {
   "cell_type": "code",
   "execution_count": 3,
   "metadata": {},
   "outputs": [],
   "source": [
    "from __future__ import print_function\n",
    "import sys\n",
    "import threading"
   ]
  },
  {
   "cell_type": "code",
   "execution_count": 4,
   "metadata": {},
   "outputs": [],
   "source": [
    "import grpc\n",
    "import numpy\n",
    "import tensorflow as tf\n",
    "import mnist_input_data"
   ]
  },
  {
   "cell_type": "code",
   "execution_count": 5,
   "metadata": {},
   "outputs": [
    {
     "name": "stderr",
     "output_type": "stream",
     "text": [
      "WARNING: Logging before flag parsing goes to stderr.\n",
      "W0819 23:56:05.885027 140626752575296 deprecation.py:323] From <ipython-input-5-17e66ce9737f>:1: read_data_sets (from tensorflow.contrib.learn.python.learn.datasets.mnist) is deprecated and will be removed in a future version.\n",
      "Instructions for updating:\n",
      "Please use alternatives such as official/mnist/dataset.py from tensorflow/models.\n",
      "W0819 23:56:05.888272 140626752575296 deprecation.py:323] From /home/jagan/.virtualenvs/tfs-client-env/lib/python3.6/site-packages/tensorflow/contrib/learn/python/learn/datasets/mnist.py:260: maybe_download (from tensorflow.contrib.learn.python.learn.datasets.base) is deprecated and will be removed in a future version.\n",
      "Instructions for updating:\n",
      "Please write your own downloading logic.\n",
      "W0819 23:56:05.892272 140626752575296 deprecation.py:323] From /home/jagan/.virtualenvs/tfs-client-env/lib/python3.6/site-packages/tensorflow/contrib/learn/python/learn/datasets/mnist.py:262: extract_images (from tensorflow.contrib.learn.python.learn.datasets.mnist) is deprecated and will be removed in a future version.\n",
      "Instructions for updating:\n",
      "Please use tf.data to implement this functionality.\n"
     ]
    },
    {
     "name": "stdout",
     "output_type": "stream",
     "text": [
      "Extracting /tmp/train-images-idx3-ubyte.gz\n"
     ]
    },
    {
     "name": "stderr",
     "output_type": "stream",
     "text": [
      "W0819 23:56:06.137973 140626752575296 deprecation.py:323] From /home/jagan/.virtualenvs/tfs-client-env/lib/python3.6/site-packages/tensorflow/contrib/learn/python/learn/datasets/mnist.py:267: extract_labels (from tensorflow.contrib.learn.python.learn.datasets.mnist) is deprecated and will be removed in a future version.\n",
      "Instructions for updating:\n",
      "Please use tf.data to implement this functionality.\n",
      "W0819 23:56:06.180411 140626752575296 deprecation.py:323] From /home/jagan/.virtualenvs/tfs-client-env/lib/python3.6/site-packages/tensorflow/contrib/learn/python/learn/datasets/mnist.py:290: DataSet.__init__ (from tensorflow.contrib.learn.python.learn.datasets.mnist) is deprecated and will be removed in a future version.\n",
      "Instructions for updating:\n",
      "Please use alternatives such as official/mnist/dataset.py from tensorflow/models.\n"
     ]
    },
    {
     "name": "stdout",
     "output_type": "stream",
     "text": [
      "Extracting /tmp/train-labels-idx1-ubyte.gz\n",
      "Extracting /tmp/t10k-images-idx3-ubyte.gz\n",
      "Extracting /tmp/t10k-labels-idx1-ubyte.gz\n"
     ]
    }
   ],
   "source": [
    "test_data_set = mnist_input_data.read_data_sets('/tmp').test"
   ]
  },
  {
   "cell_type": "code",
   "execution_count": 7,
   "metadata": {},
   "outputs": [],
   "source": [
    "predict_request = PredictRequest(model_spec=model_spec)\n",
    "prediction_service = PredictionService('0.0.0.0:8500', 10)\n",
    "num_tests = 100"
   ]
  },
  {
   "cell_type": "code",
   "execution_count": 8,
   "metadata": {},
   "outputs": [],
   "source": [
    "for _ in range(2):\n",
    "    image, label = test_data_set.next_batch(1)\n",
    "    predict_request.inputs = {'images' : image[0].reshape(1,-1)}\n",
    "    reponse = prediction_service.predict(predict_request)    "
   ]
  },
  {
   "cell_type": "code",
   "execution_count": 9,
   "metadata": {},
   "outputs": [
    {
     "data": {
      "text/plain": [
       "{'scores': array([[1.0906742e-06, 6.7125021e-12, 5.8659766e-10, 1.4442198e-03,\n",
       "         3.8212602e-06, 1.4825355e-05, 5.5803252e-08, 3.6779717e-01,\n",
       "         1.7156720e-03, 6.2902308e-01]], dtype=float32)}"
      ]
     },
     "execution_count": 9,
     "metadata": {},
     "output_type": "execute_result"
    }
   ],
   "source": [
    "reponse.parse_outputs()"
   ]
  },
  {
   "cell_type": "code",
   "execution_count": 10,
   "metadata": {},
   "outputs": [],
   "source": [
    "response = reponse.parse_outputs()"
   ]
  },
  {
   "cell_type": "code",
   "execution_count": 11,
   "metadata": {},
   "outputs": [
    {
     "data": {
      "text/plain": [
       "(1, 10)"
      ]
     },
     "execution_count": 11,
     "metadata": {},
     "output_type": "execute_result"
    }
   ],
   "source": [
    "response['scores'].shape"
   ]
  },
  {
   "cell_type": "code",
   "execution_count": 12,
   "metadata": {},
   "outputs": [
    {
     "data": {
      "text/plain": [
       "3195"
      ]
     },
     "execution_count": 12,
     "metadata": {},
     "output_type": "execute_result"
    }
   ],
   "source": [
    "predict_request.byte_size"
   ]
  },
  {
   "cell_type": "code",
   "execution_count": null,
   "metadata": {},
   "outputs": [],
   "source": [
    "tf.app.flags.DEFINE_integer('concurrency', 1,\n",
    "                            'maximum number of concurrent inference requests')\n",
    "tf.app.flags.DEFINE_integer('num_tests', 100, 'Number of test images')\n",
    "tf.app.flags.DEFINE_string('server', '', 'PredictionService host:port')\n",
    "tf.app.flags.DEFINE_string('work_dir', '/tmp', 'Working directory. ')\n",
    "FLAGS = tf.app.flags.FLAGS\n",
    "\n",
    "\n",
    "class _ResultCounter(object):\n",
    "  \"\"\"Counter for the prediction results.\"\"\"\n",
    "\n",
    "  def __init__(self, num_tests, concurrency):\n",
    "    self._num_tests = num_tests\n",
    "    self._concurrency = concurrency\n",
    "    self._error = 0\n",
    "    self._done = 0\n",
    "    self._active = 0\n",
    "    self._condition = threading.Condition()\n",
    "\n",
    "  def inc_error(self):\n",
    "    with self._condition:\n",
    "      self._error += 1\n",
    "\n",
    "  def inc_done(self):\n",
    "    with self._condition:\n",
    "      self._done += 1\n",
    "      self._condition.notify()\n",
    "\n",
    "  def dec_active(self):\n",
    "    with self._condition:\n",
    "      self._active -= 1\n",
    "      self._condition.notify()\n",
    "\n",
    "  def get_error_rate(self):\n",
    "    with self._condition:\n",
    "      while self._done != self._num_tests:\n",
    "        self._condition.wait()\n",
    "      return self._error / float(self._num_tests)\n",
    "\n",
    "  def throttle(self):\n",
    "    with self._condition:\n",
    "      while self._active == self._concurrency:\n",
    "        self._condition.wait()\n",
    "      self._active += 1\n",
    "\n",
    "\n",
    "def _create_rpc_callback(label, result_counter):\n",
    "  \"\"\"Creates RPC callback function.\n",
    "\n",
    "  Args:\n",
    "    label: The correct label for the predicted example.\n",
    "    result_counter: Counter for the prediction result.\n",
    "  Returns:\n",
    "    The callback function.\n",
    "  \"\"\"\n",
    "  def _callback(result_future):\n",
    "    \"\"\"Callback function.\n",
    "\n",
    "    Calculates the statistics for the prediction result.\n",
    "\n",
    "    Args:\n",
    "      result_future: Result future of the RPC.\n",
    "    \"\"\"\n",
    "    exception = result_future.exception()\n",
    "    if exception:\n",
    "      result_counter.inc_error()\n",
    "      print(exception)\n",
    "    else:\n",
    "      sys.stdout.write('.')\n",
    "      sys.stdout.flush()\n",
    "      response = numpy.array(\n",
    "          result_future.result().outputs['scores'].float_val)\n",
    "      prediction = numpy.argmax(response)\n",
    "      if label != prediction:\n",
    "        result_counter.inc_error()\n",
    "    result_counter.inc_done()\n",
    "    result_counter.dec_active()\n",
    "  return _callback\n",
    "\n",
    "\n",
    "def do_inference(hostport, work_dir, concurrency, num_tests):\n",
    "  \"\"\"Tests PredictionService with concurrent requests.\n",
    "\n",
    "  Args:\n",
    "    hostport: Host:port address of the PredictionService.\n",
    "    work_dir: The full path of working directory for test data set.\n",
    "    concurrency: Maximum number of concurrent requests.\n",
    "    num_tests: Number of test images to use.\n",
    "\n",
    "  Returns:\n",
    "    The classification error rate.\n",
    "\n",
    "  Raises:\n",
    "    IOError: An error occurred processing test data set.\n",
    "  \"\"\"\n",
    "  test_data_set = mnist_input_data.read_data_sets(work_dir).test\n",
    "  channel = grpc.insecure_channel(hostport)\n",
    "  stub = prediction_service_pb2_grpc.PredictionServiceStub(channel)\n",
    "  result_counter = _ResultCounter(num_tests, concurrency)\n",
    "  for _ in range(num_tests):\n",
    "    request = predict_pb2.PredictRequest()\n",
    "    request.model_spec.name = 'mnist'\n",
    "    request.model_spec.signature_name = 'predict_images'\n",
    "    image, label = test_data_set.next_batch(1)\n",
    "    request.inputs['images'].CopyFrom(\n",
    "        tf.contrib.util.make_tensor_proto(image[0], shape=[1, image[0].size]))\n",
    "    result_counter.throttle()\n",
    "    result_future = stub.Predict.future(request, 5.0)  # 5 seconds\n",
    "    result_future.add_done_callback(\n",
    "        _create_rpc_callback(label[0], result_counter))\n",
    "  return result_counter.get_error_rate()\n",
    "\n",
    "\n",
    "def main(_):\n",
    "  if FLAGS.num_tests > 10000:\n",
    "    print('num_tests should not be greater than 10k')\n",
    "    return\n",
    "  if not FLAGS.server:\n",
    "    print('please specify server host:port')\n",
    "    return\n",
    "  error_rate = do_inference(FLAGS.server, FLAGS.work_dir,\n",
    "                            FLAGS.concurrency, FLAGS.num_tests)\n",
    "  print('\\nInference error rate: %s%%' % (error_rate * 100))\n",
    "\n",
    "\n",
    "if __name__ == '__main__':\n",
    "  tf.app.run()"
   ]
  },
  {
   "cell_type": "code",
   "execution_count": null,
   "metadata": {},
   "outputs": [],
   "source": []
  },
  {
   "cell_type": "code",
   "execution_count": null,
   "metadata": {},
   "outputs": [],
   "source": []
  },
  {
   "cell_type": "code",
   "execution_count": null,
   "metadata": {},
   "outputs": [],
   "source": []
  }
 ],
 "metadata": {
  "kernelspec": {
   "display_name": "Python 3",
   "language": "python",
   "name": "python3"
  },
  "language_info": {
   "codemirror_mode": {
    "name": "ipython",
    "version": 3
   },
   "file_extension": ".py",
   "mimetype": "text/x-python",
   "name": "python",
   "nbconvert_exporter": "python",
   "pygments_lexer": "ipython3",
   "version": "3.6.8"
  }
 },
 "nbformat": 4,
 "nbformat_minor": 4
}
