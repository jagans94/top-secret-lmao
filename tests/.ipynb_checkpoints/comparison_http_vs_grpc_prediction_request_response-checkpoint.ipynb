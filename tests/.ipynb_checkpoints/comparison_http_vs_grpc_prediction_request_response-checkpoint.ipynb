{
 "cells": [
  {
   "cell_type": "markdown",
   "metadata": {},
   "source": [
    "# Benchmarking gRPC vs REST API"
   ]
  },
  {
   "cell_type": "code",
   "execution_count": 1,
   "metadata": {},
   "outputs": [],
   "source": [
    "import sys\n",
    "sys.path.append('../')\n",
    "import warnings\n",
    "warnings.filterwarnings('ignore')"
   ]
  },
  {
   "cell_type": "code",
   "execution_count": 2,
   "metadata": {},
   "outputs": [],
   "source": [
    "import tensorflow as tf\n",
    "import tensorflow.keras as keras"
   ]
  },
  {
   "cell_type": "code",
   "execution_count": 3,
   "metadata": {},
   "outputs": [],
   "source": [
    "import requests\n",
    "import numpy as np\n",
    "import json\n",
    "from tqdm import tqdm"
   ]
  },
  {
   "cell_type": "code",
   "execution_count": 4,
   "metadata": {},
   "outputs": [],
   "source": [
    "from time import time"
   ]
  },
  {
   "cell_type": "code",
   "execution_count": 5,
   "metadata": {},
   "outputs": [],
   "source": [
    "from apis import *"
   ]
  },
  {
   "cell_type": "markdown",
   "metadata": {},
   "source": [
    "#### Data functions"
   ]
  },
  {
   "cell_type": "code",
   "execution_count": 6,
   "metadata": {},
   "outputs": [],
   "source": [
    "def get_fashion_mnist():\n",
    "    _, (test_images, test_labels) = keras.datasets.fashion_mnist.load_data()\n",
    "    # reshape data\n",
    "    test_images = test_images.reshape(test_images.shape[0], 28, 28, 1)\n",
    "    # scale the values to 0.0 to 1.0\n",
    "    test_images = test_images / 255.0\n",
    "    return test_images, test_labels"
   ]
  },
  {
   "cell_type": "code",
   "execution_count": 7,
   "metadata": {},
   "outputs": [],
   "source": [
    "def get_mnist():\n",
    "    _, (test_images, test_labels) = keras.datasets.mnist.load_data()\n",
    "    # reshape data\n",
    "    test_images = test_images.reshape(test_images.shape[0], -1)\n",
    "    # scale the values to 0.0 to 1.0\n",
    "    test_images = test_images / 255.0\n",
    "    return test_images, test_labels    "
   ]
  },
  {
   "cell_type": "markdown",
   "metadata": {},
   "source": [
    "#### gRPC and HTTP requests functions"
   ]
  },
  {
   "cell_type": "code",
   "execution_count": 8,
   "metadata": {},
   "outputs": [],
   "source": [
    "def time_for_grpc_requests(proto_request_list, server='0.0.0.0:8500'):\n",
    "    prediction_service = PredictionService(server)\n",
    "    proto_response_list = []\n",
    "    st = time()\n",
    "    for req in tqdm(proto_request_list):\n",
    "        response = PredictResponse().copy(prediction_service.predict(req._protobuf, 5))\n",
    "        proto_response_list.append(response)\n",
    "    et = time()\n",
    "    return et-st, proto_response_list"
   ]
  },
  {
   "cell_type": "code",
   "execution_count": 9,
   "metadata": {},
   "outputs": [],
   "source": [
    "def time_for_http_requests(json_request_list, server_url='http://localhost:8501/v1/models/fashion_model:predict'):\n",
    "    json_response_list = []\n",
    "    headers = {\"content-type\": \"application/json\"}\n",
    "\n",
    "    st = time()\n",
    "    for req in tqdm(json_request_list):\n",
    "        json_response = requests.post(server_url, data=req, headers=headers)\n",
    "        json_response.raise_for_status()\n",
    "        json_response_list.append(json_response) \n",
    "    et = time()\n",
    "    return et-st, json_response_list"
   ]
  },
  {
   "cell_type": "code",
   "execution_count": 10,
   "metadata": {},
   "outputs": [],
   "source": [
    "def create_request(dataset, test_images, batch_size):\n",
    "    proto_request_list = []\n",
    "    json_request_list = []\n",
    "    \n",
    "    if dataset == 'fashion_mnist':\n",
    "        proto_pred_request = PredictRequest(model_spec=ModelSpec(name='fashion_model', version=1, signature_name='serving_default'))\n",
    "        json_pred_request = {\"signature_name\": \"serving_default\"}\n",
    "    elif dataset == 'mnist':\n",
    "        proto_pred_request = PredictRequest(model_spec=ModelSpec(name='mnist', version=1, signature_name='predict_images'))\n",
    "        json_pred_request = {\"signature_name\": \"predict_images\"}\n",
    "        \n",
    "    for i in range(0, len(test_images), batch_size):\n",
    "        # protobuf message\n",
    "        if dataset == 'fashion_mnist':\n",
    "            proto_pred_request.inputs = {'input_image': {'values' : test_images[i:i+batch_size,:].astype(np.float32)}}\n",
    "        elif dataset == 'mnist':\n",
    "            proto_pred_request.inputs = {'images' : {'values' : test_images[i:i+batch_size,:].astype(np.float32)}}\n",
    "        proto_request_list.append(proto_pred_request)\n",
    "        \n",
    "        # json message\n",
    "        json_pred_request.update({'instances' : test_images[i:i+batch_size,:].tolist()})\n",
    "        json_request_list.append(json.dumps(json_pred_request))\n",
    "        \n",
    "    return proto_request_list, json_request_list"
   ]
  },
  {
   "cell_type": "code",
   "execution_count": 11,
   "metadata": {},
   "outputs": [],
   "source": [
    "def latency_profile_http_vs_grpc(dataset, batch_size, num_samples=10000):\n",
    "    if dataset == 'fashion_mnist':\n",
    "        test_images, test_labels = get_fashion_mnist()\n",
    "        grpc_server = '0.0.0.0:8500'\n",
    "        http_rest_server = 'http://localhost:8501/v1/models/fashion_model:predict'\n",
    "    elif dataset == 'mnist':\n",
    "        test_images, test_labels = get_mnist()\n",
    "        grpc_server = '0.0.0.0:8500'\n",
    "        http_rest_server = r='http://localhost:8501/v1/models/mnist:predict'\n",
    "    else:\n",
    "        raise ValueError('Wrong dataset type!')\n",
    "        \n",
    "    test_images = test_images[:num_samples]\n",
    "    test_labels = test_labels[:num_samples]\n",
    "        \n",
    "    proto_request_list, json_request_list = create_request(dataset, test_images, batch_size)\n",
    "    \n",
    "    grpc_time = time_for_grpc_requests(proto_request_list, server=grpc_server)\n",
    "    print('GRPC-DONE: Batch Size: {}, Time: {}'.format(batch_size, grpc_time))\n",
    "    rest_time = time_for_http_requests(json_request_list, server_url=http_rest_server)\n",
    "    print('HTTP-DONE: Batch Size: {}, Time: {}'.format(batch_size, rest_time))\n",
    "    \n",
    "    return grpc_time, rest_time"
   ]
  },
  {
   "cell_type": "code",
   "execution_count": 15,
   "metadata": {},
   "outputs": [],
   "source": [
    "batch_sizes = [1, 4, 8, 16]"
   ]
  },
  {
   "cell_type": "code",
   "execution_count": 16,
   "metadata": {},
   "outputs": [
    {
     "data": {
      "text/plain": [
       "[1, 4, 8, 16]"
      ]
     },
     "execution_count": 16,
     "metadata": {},
     "output_type": "execute_result"
    }
   ],
   "source": [
    "batch_sizes"
   ]
  },
  {
   "cell_type": "code",
   "execution_count": 17,
   "metadata": {},
   "outputs": [
    {
     "name": "stderr",
     "output_type": "stream",
     "text": [
      "100%|██████████| 10000/10000 [00:03<00:00, 2646.07it/s]\n",
      "  0%|          | 37/10000 [00:00<00:27, 368.49it/s]"
     ]
    },
    {
     "name": "stdout",
     "output_type": "stream",
     "text": [
      "GRPC-DONE: Batch Size: 1, Time: 3.7817211151123047\n"
     ]
    },
    {
     "name": "stderr",
     "output_type": "stream",
     "text": [
      "100%|██████████| 10000/10000 [00:26<00:00, 371.68it/s]\n"
     ]
    },
    {
     "name": "stdout",
     "output_type": "stream",
     "text": [
      "HTTP-DONE: Batch Size: 1, Time: 26.906493186950684\n"
     ]
    },
    {
     "name": "stderr",
     "output_type": "stream",
     "text": [
      "100%|██████████| 2500/2500 [00:01<00:00, 2447.27it/s]\n",
      "  1%|▏         | 35/2500 [00:00<00:07, 345.25it/s]"
     ]
    },
    {
     "name": "stdout",
     "output_type": "stream",
     "text": [
      "GRPC-DONE: Batch Size: 4, Time: 1.0227878093719482\n"
     ]
    },
    {
     "name": "stderr",
     "output_type": "stream",
     "text": [
      "100%|██████████| 2500/2500 [00:07<00:00, 355.05it/s]\n"
     ]
    },
    {
     "name": "stdout",
     "output_type": "stream",
     "text": [
      "HTTP-DONE: Batch Size: 4, Time: 7.045127630233765\n"
     ]
    },
    {
     "name": "stderr",
     "output_type": "stream",
     "text": [
      "100%|██████████| 1250/1250 [00:00<00:00, 2267.48it/s]\n",
      "  3%|▎         | 33/1250 [00:00<00:03, 326.47it/s]"
     ]
    },
    {
     "name": "stdout",
     "output_type": "stream",
     "text": [
      "GRPC-DONE: Batch Size: 8, Time: 0.5525126457214355\n"
     ]
    },
    {
     "name": "stderr",
     "output_type": "stream",
     "text": [
      "100%|██████████| 1250/1250 [00:03<00:00, 327.84it/s]\n"
     ]
    },
    {
     "name": "stdout",
     "output_type": "stream",
     "text": [
      "HTTP-DONE: Batch Size: 8, Time: 3.8154640197753906\n"
     ]
    },
    {
     "name": "stderr",
     "output_type": "stream",
     "text": [
      "100%|██████████| 625/625 [00:00<00:00, 1936.27it/s]\n",
      "  4%|▍         | 28/625 [00:00<00:02, 278.78it/s]"
     ]
    },
    {
     "name": "stdout",
     "output_type": "stream",
     "text": [
      "GRPC-DONE: Batch Size: 16, Time: 0.32400035858154297\n"
     ]
    },
    {
     "name": "stderr",
     "output_type": "stream",
     "text": [
      "100%|██████████| 625/625 [00:02<00:00, 265.68it/s]"
     ]
    },
    {
     "name": "stdout",
     "output_type": "stream",
     "text": [
      "HTTP-DONE: Batch Size: 16, Time: 2.3553247451782227\n"
     ]
    },
    {
     "name": "stderr",
     "output_type": "stream",
     "text": [
      "\n"
     ]
    }
   ],
   "source": [
    "latency_profile_against_batches = []\n",
    "for batch_size in batch_sizes:\n",
    "    latency_profile_against_batches.append(latency_profile_http_vs_grpc('mnist', batch_size))"
   ]
  },
  {
   "cell_type": "code",
   "execution_count": 18,
   "metadata": {},
   "outputs": [],
   "source": [
    "import matplotlib.pyplot as plt"
   ]
  },
  {
   "cell_type": "code",
   "execution_count": 19,
   "metadata": {},
   "outputs": [],
   "source": [
    "%matplotlib inline"
   ]
  },
  {
   "cell_type": "code",
   "execution_count": 33,
   "metadata": {},
   "outputs": [],
   "source": [
    "def plot_latencies(latency_profile_against_batches, dataset):\n",
    "    N = len(latency_profile_against_batches)\n",
    "\n",
    "    grpc_latencies = [x[0] for x in latency_profile_against_batches]\n",
    "    http_latencies = [x[1] for x in latency_profile_against_batches]\n",
    "\n",
    "    ind = np.arange(N)  # the x locations for the groups\n",
    "    width = 0.35       # the width of the bars\n",
    "\n",
    "    fig, ax = plt.subplots(figsize=(10,8))\n",
    "    rects1 = ax.bar(ind, grpc_latencies, width, color='royalblue')\n",
    "    rects2 = ax.bar(ind+width, http_latencies, width, color='seagreen')\n",
    "\n",
    "    # add some\n",
    "    ax.set_ylabel('Latency (s)')\n",
    "    ax.set_xlabel('Batch Sizes')\n",
    "    ax.set_title('''Latency comparison between gRPC vs REST `predict` requests \n",
    "                    on  {} dataset'''.format(dataset))\n",
    "    ax.set_xticks(ind + width / 2)\n",
    "    ax.set_xticklabels( ('1', '4', '8', '16') )\n",
    "\n",
    "    ax.legend( (rects1[0], rects2[0]), ('GRPC/PB', 'HTTP/JSON') )\n",
    "    plt.savefig('latency-comp-{}.png'.format(dataset))\n",
    "    plt.show()"
   ]
  },
  {
   "cell_type": "code",
   "execution_count": 34,
   "metadata": {},
   "outputs": [
    {
     "data": {
      "image/png": "[encoded data removed]",
      "text/plain": [
       "<Figure size 720x576 with 1 Axes>"
      ]
     },
     "metadata": {
      "needs_background": "light"
     },
     "output_type": "display_data"
    }
   ],
   "source": [
    "plot_latencies(latency_profile_against_batches, 'mnist')"
   ]
  },
  {
   "cell_type": "markdown",
   "metadata": {},
   "source": [
    "The gRPC request are processed on average 6 times faster than HTTP requests."
   ]
  },
  {
   "cell_type": "markdown",
   "metadata": {},
   "source": [
    "Future tests: Need to add"
   ]
  },
  {
   "cell_type": "code",
   "execution_count": null,
   "metadata": {},
   "outputs": [],
   "source": []
  }
 ],
 "metadata": {
  "kernelspec": {
   "display_name": "Python 3",
   "language": "python",
   "name": "python3"
  },
  "language_info": {
   "codemirror_mode": {
    "name": "ipython",
    "version": 3
   },
   "file_extension": ".py",
   "mimetype": "text/x-python",
   "name": "python",
   "nbconvert_exporter": "python",
   "pygments_lexer": "ipython3",
   "version": "3.6.8"
  }
 },
 "nbformat": 4,
 "nbformat_minor": 4
}
