{
 "cells": [
  {
   "cell_type": "code",
   "execution_count": 1,
   "metadata": {},
   "outputs": [],
   "source": [
    "import sys"
   ]
  },
  {
   "cell_type": "code",
   "execution_count": 2,
   "metadata": {},
   "outputs": [],
   "source": [
    "sys.path.append('../')"
   ]
  },
  {
   "cell_type": "markdown",
   "metadata": {},
   "source": [
    "### Testing source.py"
   ]
  },
  {
   "cell_type": "markdown",
   "metadata": {},
   "source": [
    "#### Testing: ServableVersionPolicy"
   ]
  },
  {
   "cell_type": "code",
   "execution_count": 3,
   "metadata": {},
   "outputs": [],
   "source": [
    "from sources import ServableVersionPolicy"
   ]
  },
  {
   "cell_type": "markdown",
   "metadata": {},
   "source": [
    "Note: The latest attribute value given is set."
   ]
  },
  {
   "cell_type": "code",
   "execution_count": 4,
   "metadata": {},
   "outputs": [],
   "source": [
    "model_version_policy = ServableVersionPolicy(latest=2, specific=[1,2,3])"
   ]
  },
  {
   "cell_type": "code",
   "execution_count": 5,
   "metadata": {},
   "outputs": [
    {
     "data": {
      "text/plain": [
       "specific {\n",
       "  versions: 1\n",
       "  versions: 2\n",
       "  versions: 3\n",
       "}"
      ]
     },
     "execution_count": 5,
     "metadata": {},
     "output_type": "execute_result"
    }
   ],
   "source": [
    "model_version_policy"
   ]
  },
  {
   "cell_type": "code",
   "execution_count": 6,
   "metadata": {},
   "outputs": [],
   "source": [
    "model_version_policy = ServableVersionPolicy(latest=2, _all=\"anything other than none\")"
   ]
  },
  {
   "cell_type": "code",
   "execution_count": 7,
   "metadata": {},
   "outputs": [
    {
     "data": {
      "text/plain": [
       "all {\n",
       "}"
      ]
     },
     "execution_count": 7,
     "metadata": {},
     "output_type": "execute_result"
    }
   ],
   "source": [
    "model_version_policy"
   ]
  },
  {
   "cell_type": "code",
   "execution_count": 8,
   "metadata": {},
   "outputs": [],
   "source": [
    "model_version_policy = ServableVersionPolicy(latest=2, _all=None)"
   ]
  },
  {
   "cell_type": "code",
   "execution_count": 9,
   "metadata": {},
   "outputs": [
    {
     "data": {
      "text/plain": [
       "latest {\n",
       "  num_versions: 2\n",
       "}"
      ]
     },
     "execution_count": 9,
     "metadata": {},
     "output_type": "execute_result"
    }
   ],
   "source": [
    "model_version_policy"
   ]
  },
  {
   "cell_type": "markdown",
   "metadata": {},
   "source": [
    "TODO: Change API around `oneof` attributes to be more natural."
   ]
  },
  {
   "cell_type": "markdown",
   "metadata": {},
   "source": [
    "### Testing config.py"
   ]
  },
  {
   "cell_type": "markdown",
   "metadata": {},
   "source": [
    "#### Testing: \n",
    "- ModelConfig\n",
    "- ModelConfigList\n",
    "- ModelServerConfig"
   ]
  },
  {
   "cell_type": "code",
   "execution_count": 10,
   "metadata": {},
   "outputs": [],
   "source": [
    "from config import ModelConfig, ModelConfigList, ModelServerConfig"
   ]
  },
  {
   "cell_type": "code",
   "execution_count": 11,
   "metadata": {},
   "outputs": [],
   "source": [
    "model_config = ModelConfig(name='mnist', base_path='.', model_platform='tensorflow', model_version_policy=model_version_policy)"
   ]
  },
  {
   "cell_type": "code",
   "execution_count": 12,
   "metadata": {},
   "outputs": [],
   "source": [
    "new_model_config = ModelConfig(name='new_mnist', base_path='.', model_platform='tensorflow', model_version_policy=model_version_policy)"
   ]
  },
  {
   "cell_type": "code",
   "execution_count": 13,
   "metadata": {},
   "outputs": [],
   "source": [
    "model_config_list = ModelConfigList(config=model_config)"
   ]
  },
  {
   "cell_type": "code",
   "execution_count": 14,
   "metadata": {},
   "outputs": [],
   "source": [
    "new_model_config_list = ModelConfigList(config=new_model_config)"
   ]
  },
  {
   "cell_type": "code",
   "execution_count": 15,
   "metadata": {},
   "outputs": [],
   "source": [
    "new_model_config_list.config.extend([model_config]*10)"
   ]
  },
  {
   "cell_type": "code",
   "execution_count": 16,
   "metadata": {},
   "outputs": [],
   "source": [
    "litem = new_model_config_list._protobuf.config[3]"
   ]
  },
  {
   "cell_type": "code",
   "execution_count": 17,
   "metadata": {},
   "outputs": [
    {
     "data": {
      "text/plain": [
       "True"
      ]
     },
     "execution_count": 17,
     "metadata": {},
     "output_type": "execute_result"
    }
   ],
   "source": [
    "litem in new_model_config_list._protobuf.config"
   ]
  },
  {
   "cell_type": "code",
   "execution_count": 18,
   "metadata": {},
   "outputs": [],
   "source": [
    "ritem = new_model_config_list.config[3]"
   ]
  },
  {
   "cell_type": "code",
   "execution_count": 19,
   "metadata": {},
   "outputs": [
    {
     "data": {
      "text/plain": [
       "True"
      ]
     },
     "execution_count": 19,
     "metadata": {},
     "output_type": "execute_result"
    }
   ],
   "source": [
    "ritem in new_model_config_list.config"
   ]
  },
  {
   "cell_type": "code",
   "execution_count": 20,
   "metadata": {},
   "outputs": [
    {
     "data": {
      "text/plain": [
       "True"
      ]
     },
     "execution_count": 20,
     "metadata": {},
     "output_type": "execute_result"
    }
   ],
   "source": [
    "new_model_config_list.config == new_model_config_list.config"
   ]
  },
  {
   "cell_type": "code",
   "execution_count": 21,
   "metadata": {},
   "outputs": [],
   "source": [
    "from base import MessageList"
   ]
  },
  {
   "cell_type": "code",
   "execution_count": 22,
   "metadata": {},
   "outputs": [],
   "source": [
    "msglist = MessageList(new_model_config_list._protobuf.config, ModelConfig())"
   ]
  },
  {
   "cell_type": "code",
   "execution_count": 23,
   "metadata": {},
   "outputs": [],
   "source": [
    "msglist.extend(new_model_config)"
   ]
  },
  {
   "cell_type": "code",
   "execution_count": 24,
   "metadata": {},
   "outputs": [
    {
     "data": {
      "text/plain": [
       "[name: \"new_mnist\"\n",
       " base_path: \".\"\n",
       " model_platform: \"tensorflow\"\n",
       " model_version_policy {\n",
       "   latest {\n",
       "     num_versions: 2\n",
       "   }\n",
       " }, name: \"new_mnist\"\n",
       " base_path: \".\"\n",
       " model_platform: \"tensorflow\"\n",
       " model_version_policy {\n",
       "   latest {\n",
       "     num_versions: 2\n",
       "   }\n",
       " }, name: \"new_mnist\"\n",
       " base_path: \".\"\n",
       " model_platform: \"tensorflow\"\n",
       " model_version_policy {\n",
       "   latest {\n",
       "     num_versions: 2\n",
       "   }\n",
       " }, name: \"new_mnist\"\n",
       " base_path: \".\"\n",
       " model_platform: \"tensorflow\"\n",
       " model_version_policy {\n",
       "   latest {\n",
       "     num_versions: 2\n",
       "   }\n",
       " }, name: \"new_mnist\"\n",
       " base_path: \".\"\n",
       " model_platform: \"tensorflow\"\n",
       " model_version_policy {\n",
       "   latest {\n",
       "     num_versions: 2\n",
       "   }\n",
       " }, name: \"new_mnist\"\n",
       " base_path: \".\"\n",
       " model_platform: \"tensorflow\"\n",
       " model_version_policy {\n",
       "   latest {\n",
       "     num_versions: 2\n",
       "   }\n",
       " }, name: \"new_mnist\"\n",
       " base_path: \".\"\n",
       " model_platform: \"tensorflow\"\n",
       " model_version_policy {\n",
       "   latest {\n",
       "     num_versions: 2\n",
       "   }\n",
       " }, name: \"new_mnist\"\n",
       " base_path: \".\"\n",
       " model_platform: \"tensorflow\"\n",
       " model_version_policy {\n",
       "   latest {\n",
       "     num_versions: 2\n",
       "   }\n",
       " }, name: \"new_mnist\"\n",
       " base_path: \".\"\n",
       " model_platform: \"tensorflow\"\n",
       " model_version_policy {\n",
       "   latest {\n",
       "     num_versions: 2\n",
       "   }\n",
       " }, name: \"new_mnist\"\n",
       " base_path: \".\"\n",
       " model_platform: \"tensorflow\"\n",
       " model_version_policy {\n",
       "   latest {\n",
       "     num_versions: 2\n",
       "   }\n",
       " }, name: \"new_mnist\"\n",
       " base_path: \".\"\n",
       " model_platform: \"tensorflow\"\n",
       " model_version_policy {\n",
       "   latest {\n",
       "     num_versions: 2\n",
       "   }\n",
       " }, name: \"new_mnist\"\n",
       " base_path: \".\"\n",
       " model_platform: \"tensorflow\"\n",
       " model_version_policy {\n",
       "   latest {\n",
       "     num_versions: 2\n",
       "   }\n",
       " }]"
      ]
     },
     "execution_count": 24,
     "metadata": {},
     "output_type": "execute_result"
    }
   ],
   "source": [
    "list(msglist)"
   ]
  },
  {
   "cell_type": "code",
   "execution_count": 26,
   "metadata": {},
   "outputs": [],
   "source": [
    "new_model_config_list.config = msglist"
   ]
  },
  {
   "cell_type": "code",
   "execution_count": 30,
   "metadata": {},
   "outputs": [
    {
     "data": {
      "text/plain": [
       "12"
      ]
     },
     "execution_count": 30,
     "metadata": {},
     "output_type": "execute_result"
    }
   ],
   "source": [
    "len(msglist)"
   ]
  },
  {
   "cell_type": "code",
   "execution_count": 31,
   "metadata": {},
   "outputs": [
    {
     "data": {
      "text/plain": [
       "12"
      ]
     },
     "execution_count": 31,
     "metadata": {},
     "output_type": "execute_result"
    }
   ],
   "source": [
    "len(new_model_config_list.config)"
   ]
  },
  {
   "cell_type": "code",
   "execution_count": 32,
   "metadata": {},
   "outputs": [
    {
     "data": {
      "text/plain": [
       "True"
      ]
     },
     "execution_count": 32,
     "metadata": {},
     "output_type": "execute_result"
    }
   ],
   "source": [
    "new_model_config_list.config == new_model_config_list.config"
   ]
  },
  {
   "cell_type": "code",
   "execution_count": 33,
   "metadata": {},
   "outputs": [
    {
     "name": "stdout",
     "output_type": "stream",
     "text": [
      "name: \"new_mnist\"\n",
      "base_path: \".\"\n",
      "model_platform: \"tensorflow\"\n",
      "model_version_policy {\n",
      "  latest {\n",
      "    num_versions: 2\n",
      "  }\n",
      "}\n",
      "\n"
     ]
    }
   ],
   "source": [
    "for item in new_model_config_list._protobuf.config:\n",
    "    print(item)\n",
    "    break"
   ]
  },
  {
   "cell_type": "code",
   "execution_count": 1,
   "metadata": {},
   "outputs": [],
   "source": [
    "import sys"
   ]
  },
  {
   "cell_type": "code",
   "execution_count": 2,
   "metadata": {},
   "outputs": [],
   "source": [
    "sys.path.append('../')"
   ]
  },
  {
   "cell_type": "code",
   "execution_count": 3,
   "metadata": {},
   "outputs": [],
   "source": [
    "from apis import ModelSpec, PredictRequest"
   ]
  },
  {
   "cell_type": "code",
   "execution_count": 20,
   "metadata": {},
   "outputs": [],
   "source": [
    "model_spec = ModelSpec(name='mnist')"
   ]
  },
  {
   "cell_type": "code",
   "execution_count": 21,
   "metadata": {},
   "outputs": [
    {
     "data": {
      "text/plain": [
       "name: \"mnist\""
      ]
     },
     "execution_count": 21,
     "metadata": {},
     "output_type": "execute_result"
    }
   ],
   "source": [
    "model_spec"
   ]
  },
  {
   "cell_type": "code",
   "execution_count": 22,
   "metadata": {},
   "outputs": [],
   "source": [
    "pred_req = PredictRequest(model_spec=model_spec)"
   ]
  },
  {
   "cell_type": "code",
   "execution_count": 23,
   "metadata": {},
   "outputs": [
    {
     "name": "stdout",
     "output_type": "stream",
     "text": [
      "140304257524288\n"
     ]
    },
    {
     "data": {
      "text/plain": [
       "name: \"mnist\""
      ]
     },
     "execution_count": 23,
     "metadata": {},
     "output_type": "execute_result"
    }
   ],
   "source": [
    "pred_req.model_spec"
   ]
  },
  {
   "cell_type": "code",
   "execution_count": 25,
   "metadata": {},
   "outputs": [
    {
     "name": "stdout",
     "output_type": "stream",
     "text": [
      "140304257524288\n"
     ]
    }
   ],
   "source": [
    "pred_req.model_spec.name = '12'"
   ]
  },
  {
   "cell_type": "code",
   "execution_count": 26,
   "metadata": {},
   "outputs": [
    {
     "name": "stdout",
     "output_type": "stream",
     "text": [
      "140304257524288\n"
     ]
    },
    {
     "data": {
      "text/plain": [
       "name: \"mnist\""
      ]
     },
     "execution_count": 26,
     "metadata": {},
     "output_type": "execute_result"
    }
   ],
   "source": [
    "pred_req.model_spec"
   ]
  },
  {
   "cell_type": "code",
   "execution_count": 27,
   "metadata": {},
   "outputs": [],
   "source": [
    "pred_req.model_spec = ModelSpec(name='12')"
   ]
  },
  {
   "cell_type": "code",
   "execution_count": 28,
   "metadata": {},
   "outputs": [
    {
     "name": "stdout",
     "output_type": "stream",
     "text": [
      "140304257524288\n"
     ]
    },
    {
     "data": {
      "text/plain": [
       "name: \"12\""
      ]
     },
     "execution_count": 28,
     "metadata": {},
     "output_type": "execute_result"
    }
   ],
   "source": [
    "pred_req.model_spec"
   ]
  },
  {
   "cell_type": "code",
   "execution_count": 19,
   "metadata": {},
   "outputs": [
    {
     "data": {
      "text/plain": [
       "model_spec {\n",
       "  name: \"12\"\n",
       "}"
      ]
     },
     "execution_count": 19,
     "metadata": {},
     "output_type": "execute_result"
    }
   ],
   "source": [
    "pred_req"
   ]
  },
  {
   "cell_type": "code",
   "execution_count": null,
   "metadata": {},
   "outputs": [],
   "source": []
  }
 ],
 "metadata": {
  "kernelspec": {
   "display_name": "Python 3",
   "language": "python",
   "name": "python3"
  },
  "language_info": {
   "codemirror_mode": {
    "name": "ipython",
    "version": 3
   },
   "file_extension": ".py",
   "mimetype": "text/x-python",
   "name": "python",
   "nbconvert_exporter": "python",
   "pygments_lexer": "ipython3",
   "version": "3.6.5"
  }
 },
 "nbformat": 4,
 "nbformat_minor": 4
}
