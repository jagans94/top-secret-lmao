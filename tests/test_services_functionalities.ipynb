{
 "cells": [
  {
   "cell_type": "code",
   "execution_count": 2,
   "metadata": {},
   "outputs": [],
   "source": [
    "import grpc\n",
    "from apis import PredictRequest, PredictionService, ModelSpec"
   ]
  },
  {
   "cell_type": "code",
   "execution_count": 3,
   "metadata": {},
   "outputs": [],
   "source": [
    "model_spec = ModelSpec(name='mnist', version=2, signature_name='predict_images')"
   ]
  },
  {
   "cell_type": "code",
   "execution_count": 4,
   "metadata": {},
   "outputs": [
    {
     "data": {
      "text/plain": [
       "name: \"mnist\"\n",
       "version {\n",
       "  value: 2\n",
       "}\n",
       "signature_name: \"predict_images\""
      ]
     },
     "execution_count": 4,
     "metadata": {},
     "output_type": "execute_result"
    }
   ],
   "source": [
    "model_spec"
   ]
  },
  {
   "cell_type": "code",
   "execution_count": 5,
   "metadata": {},
   "outputs": [],
   "source": [
    "import mnist_input_data"
   ]
  },
  {
   "cell_type": "code",
   "execution_count": 6,
   "metadata": {},
   "outputs": [
    {
     "name": "stderr",
     "output_type": "stream",
     "text": [
      "WARNING: Logging before flag parsing goes to stderr.\n",
      "W0820 14:11:33.463496 139744798095168 deprecation.py:323] From <ipython-input-6-17e66ce9737f>:1: read_data_sets (from tensorflow.contrib.learn.python.learn.datasets.mnist) is deprecated and will be removed in a future version.\n",
      "Instructions for updating:\n",
      "Please use alternatives such as official/mnist/dataset.py from tensorflow/models.\n",
      "W0820 14:11:33.467386 139744798095168 deprecation.py:323] From /home/jagan/.virtualenvs/tfs-client-env/lib/python3.6/site-packages/tensorflow/contrib/learn/python/learn/datasets/mnist.py:260: maybe_download (from tensorflow.contrib.learn.python.learn.datasets.base) is deprecated and will be removed in a future version.\n",
      "Instructions for updating:\n",
      "Please write your own downloading logic.\n",
      "W0820 14:11:33.469625 139744798095168 deprecation.py:323] From /home/jagan/.virtualenvs/tfs-client-env/lib/python3.6/site-packages/tensorflow/contrib/learn/python/learn/datasets/mnist.py:262: extract_images (from tensorflow.contrib.learn.python.learn.datasets.mnist) is deprecated and will be removed in a future version.\n",
      "Instructions for updating:\n",
      "Please use tf.data to implement this functionality.\n"
     ]
    },
    {
     "name": "stdout",
     "output_type": "stream",
     "text": [
      "Extracting /tmp/train-images-idx3-ubyte.gz\n"
     ]
    },
    {
     "name": "stderr",
     "output_type": "stream",
     "text": [
      "W0820 14:11:33.732434 139744798095168 deprecation.py:323] From /home/jagan/.virtualenvs/tfs-client-env/lib/python3.6/site-packages/tensorflow/contrib/learn/python/learn/datasets/mnist.py:267: extract_labels (from tensorflow.contrib.learn.python.learn.datasets.mnist) is deprecated and will be removed in a future version.\n",
      "Instructions for updating:\n",
      "Please use tf.data to implement this functionality.\n",
      "W0820 14:11:33.774249 139744798095168 deprecation.py:323] From /home/jagan/.virtualenvs/tfs-client-env/lib/python3.6/site-packages/tensorflow/contrib/learn/python/learn/datasets/mnist.py:290: DataSet.__init__ (from tensorflow.contrib.learn.python.learn.datasets.mnist) is deprecated and will be removed in a future version.\n",
      "Instructions for updating:\n",
      "Please use alternatives such as official/mnist/dataset.py from tensorflow/models.\n"
     ]
    },
    {
     "name": "stdout",
     "output_type": "stream",
     "text": [
      "Extracting /tmp/train-labels-idx1-ubyte.gz\n",
      "Extracting /tmp/t10k-images-idx3-ubyte.gz\n",
      "Extracting /tmp/t10k-labels-idx1-ubyte.gz\n"
     ]
    }
   ],
   "source": [
    "test_data_set = mnist_input_data.read_data_sets('/tmp').test"
   ]
  },
  {
   "cell_type": "code",
   "execution_count": 7,
   "metadata": {},
   "outputs": [],
   "source": [
    "from apis import GetModelMetadataRequest, GetModelMetadataResponse"
   ]
  },
  {
   "cell_type": "code",
   "execution_count": 8,
   "metadata": {},
   "outputs": [],
   "source": [
    "predict_request = PredictRequest(model_spec=model_spec)\n",
    "prediction_service = PredictionService('0.0.0.0:8500')\n",
    "get_metadata_request = GetModelMetadataRequest(model_spec, 'signature_def')"
   ]
  },
  {
   "cell_type": "code",
   "execution_count": 9,
   "metadata": {},
   "outputs": [],
   "source": [
    "predict_output_list = []\n",
    "metadata_output_list = []\n",
    "for _ in range(2):\n",
    "    image, label = test_data_set.next_batch(1)\n",
    "    predict_request.inputs = {'images' : image[0].reshape(1,-1)}\n",
    "    predict_output_list.append(prediction_service.predict(predict_request).parse_outputs())\n",
    "    metadata_output_list.append(prediction_service.get_model_metadata(get_metadata_request))"
   ]
  },
  {
   "cell_type": "code",
   "execution_count": 10,
   "metadata": {},
   "outputs": [
    {
     "data": {
      "text/plain": [
       "[{'scores': array([[1.72479195e-04, 5.23245198e-08, 2.59678171e-04, 2.09778715e-02,\n",
       "          1.92679597e-08, 9.74352479e-01, 1.21001285e-05, 5.34363220e-10,\n",
       "          4.22514649e-03, 2.18699796e-07]], dtype=float32)},\n",
       " {'scores': array([[8.0623630e-07, 8.7908438e-07, 6.2141112e-08, 6.2817846e-05,\n",
       "          9.7606778e-03, 4.3937564e-03, 9.4728443e-07, 8.0118924e-02,\n",
       "          2.1997318e-03, 9.0346146e-01]], dtype=float32)}]"
      ]
     },
     "execution_count": 10,
     "metadata": {},
     "output_type": "execute_result"
    }
   ],
   "source": [
    "predict_output_list"
   ]
  },
  {
   "cell_type": "code",
   "execution_count": 11,
   "metadata": {},
   "outputs": [
    {
     "data": {
      "text/plain": [
       "[model_spec {\n",
       "   name: \"mnist\"\n",
       "   version {\n",
       "     value: 2\n",
       "   }\n",
       " }\n",
       " metadata {\n",
       "   key: \"signature_def\"\n",
       "   value {\n",
       "     type_url: \"type.googleapis.com/tensorflow.serving.SignatureDefMap\"\n",
       "     value: \"\\n\\305\\001\\n\\017serving_default\\022\\261\\001\\n\\036\\n\\006inputs\\022\\024\\n\\014tf_example:0\\020\\007\\032\\002\\030\\001\\022G\\n\\007classes\\022<\\n%hash_table_Lookup/LookupTableFindV2:0\\020\\007\\032\\021\\022\\013\\010\\377\\377\\377\\377\\377\\377\\377\\377\\377\\001\\022\\002\\010\\n\\022)\\n\\006scores\\022\\037\\n\\010TopKV2:0\\020\\001\\032\\021\\022\\013\\010\\377\\377\\377\\377\\377\\377\\377\\377\\377\\001\\022\\002\\010\\n\\032\\033tensorflow/serving/classify\\n{\\n\\016predict_images\\022i\\n%\\n\\006images\\022\\033\\n\\003x:0\\020\\001\\032\\022\\022\\013\\010\\377\\377\\377\\377\\377\\377\\377\\377\\377\\001\\022\\003\\010\\220\\006\\022$\\n\\006scores\\022\\032\\n\\003y:0\\020\\001\\032\\021\\022\\013\\010\\377\\377\\377\\377\\377\\377\\377\\377\\377\\001\\022\\002\\010\\n\\032\\032tensorflow/serving/predict\"\n",
       "   }\n",
       " }, model_spec {\n",
       "   name: \"mnist\"\n",
       "   version {\n",
       "     value: 2\n",
       "   }\n",
       " }\n",
       " metadata {\n",
       "   key: \"signature_def\"\n",
       "   value {\n",
       "     type_url: \"type.googleapis.com/tensorflow.serving.SignatureDefMap\"\n",
       "     value: \"\\n\\305\\001\\n\\017serving_default\\022\\261\\001\\n\\036\\n\\006inputs\\022\\024\\n\\014tf_example:0\\020\\007\\032\\002\\030\\001\\022)\\n\\006scores\\022\\037\\n\\010TopKV2:0\\020\\001\\032\\021\\022\\013\\010\\377\\377\\377\\377\\377\\377\\377\\377\\377\\001\\022\\002\\010\\n\\022G\\n\\007classes\\022<\\n%hash_table_Lookup/LookupTableFindV2:0\\020\\007\\032\\021\\022\\013\\010\\377\\377\\377\\377\\377\\377\\377\\377\\377\\001\\022\\002\\010\\n\\032\\033tensorflow/serving/classify\\n{\\n\\016predict_images\\022i\\n%\\n\\006images\\022\\033\\n\\003x:0\\020\\001\\032\\022\\022\\013\\010\\377\\377\\377\\377\\377\\377\\377\\377\\377\\001\\022\\003\\010\\220\\006\\022$\\n\\006scores\\022\\032\\n\\003y:0\\020\\001\\032\\021\\022\\013\\010\\377\\377\\377\\377\\377\\377\\377\\377\\377\\001\\022\\002\\010\\n\\032\\032tensorflow/serving/predict\"\n",
       "   }\n",
       " }]"
      ]
     },
     "execution_count": 11,
     "metadata": {},
     "output_type": "execute_result"
    }
   ],
   "source": [
    "metadata_output_list"
   ]
  },
  {
   "cell_type": "code",
   "execution_count": null,
   "metadata": {},
   "outputs": [],
   "source": []
  }
 ],
 "metadata": {
  "kernelspec": {
   "display_name": "Python 3",
   "language": "python",
   "name": "python3"
  },
  "language_info": {
   "codemirror_mode": {
    "name": "ipython",
    "version": 3
   },
   "file_extension": ".py",
   "mimetype": "text/x-python",
   "name": "python",
   "nbconvert_exporter": "python",
   "pygments_lexer": "ipython3",
   "version": "3.6.8"
  }
 },
 "nbformat": 4,
 "nbformat_minor": 4
}
