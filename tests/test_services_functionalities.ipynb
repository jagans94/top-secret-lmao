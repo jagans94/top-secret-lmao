{
 "cells": [
  {
   "cell_type": "code",
   "execution_count": 1,
   "metadata": {},
   "outputs": [],
   "source": [
    "import sys\n",
    "sys.path.append('../')\n",
    "import warnings\n",
    "warnings.filterwarnings('ignore')"
   ]
  },
  {
   "cell_type": "markdown",
   "metadata": {},
   "source": [
    "### Testing `PredictionService` API"
   ]
  },
  {
   "cell_type": "code",
   "execution_count": 2,
   "metadata": {},
   "outputs": [],
   "source": [
    "from apis import *"
   ]
  },
  {
   "cell_type": "code",
   "execution_count": 3,
   "metadata": {},
   "outputs": [],
   "source": [
    "model_spec = ModelSpec(name='mnist', version=2, signature_name='predict_images')"
   ]
  },
  {
   "cell_type": "code",
   "execution_count": 4,
   "metadata": {},
   "outputs": [
    {
     "data": {
      "text/plain": [
       "name: \"mnist\"\n",
       "version {\n",
       "  value: 2\n",
       "}\n",
       "signature_name: \"predict_images\""
      ]
     },
     "execution_count": 4,
     "metadata": {},
     "output_type": "execute_result"
    }
   ],
   "source": [
    "model_spec"
   ]
  },
  {
   "cell_type": "code",
   "execution_count": 5,
   "metadata": {},
   "outputs": [],
   "source": [
    "import mnist_input_data"
   ]
  },
  {
   "cell_type": "code",
   "execution_count": 6,
   "metadata": {
    "collapsed": true,
    "jupyter": {
     "outputs_hidden": true
    }
   },
   "outputs": [
    {
     "name": "stderr",
     "output_type": "stream",
     "text": [
      "WARNING: Logging before flag parsing goes to stderr.\n",
      "W0825 22:32:29.505696 139853570537280 deprecation.py:323] From <ipython-input-6-17e66ce9737f>:1: read_data_sets (from tensorflow.contrib.learn.python.learn.datasets.mnist) is deprecated and will be removed in a future version.\n",
      "Instructions for updating:\n",
      "Please use alternatives such as official/mnist/dataset.py from tensorflow/models.\n",
      "W0825 22:32:29.506736 139853570537280 deprecation.py:323] From /home/jagan/.virtualenvs/tfs-client-env/lib/python3.6/site-packages/tensorflow/contrib/learn/python/learn/datasets/mnist.py:260: maybe_download (from tensorflow.contrib.learn.python.learn.datasets.base) is deprecated and will be removed in a future version.\n",
      "Instructions for updating:\n",
      "Please write your own downloading logic.\n",
      "W0825 22:32:29.507449 139853570537280 deprecation.py:323] From /home/jagan/.virtualenvs/tfs-client-env/lib/python3.6/site-packages/tensorflow/contrib/learn/python/learn/datasets/mnist.py:262: extract_images (from tensorflow.contrib.learn.python.learn.datasets.mnist) is deprecated and will be removed in a future version.\n",
      "Instructions for updating:\n",
      "Please use tf.data to implement this functionality.\n"
     ]
    },
    {
     "name": "stdout",
     "output_type": "stream",
     "text": [
      "Extracting /tmp/train-images-idx3-ubyte.gz\n"
     ]
    },
    {
     "name": "stderr",
     "output_type": "stream",
     "text": [
      "W0825 22:32:29.747982 139853570537280 deprecation.py:323] From /home/jagan/.virtualenvs/tfs-client-env/lib/python3.6/site-packages/tensorflow/contrib/learn/python/learn/datasets/mnist.py:267: extract_labels (from tensorflow.contrib.learn.python.learn.datasets.mnist) is deprecated and will be removed in a future version.\n",
      "Instructions for updating:\n",
      "Please use tf.data to implement this functionality.\n",
      "W0825 22:32:29.795783 139853570537280 deprecation.py:323] From /home/jagan/.virtualenvs/tfs-client-env/lib/python3.6/site-packages/tensorflow/contrib/learn/python/learn/datasets/mnist.py:290: DataSet.__init__ (from tensorflow.contrib.learn.python.learn.datasets.mnist) is deprecated and will be removed in a future version.\n",
      "Instructions for updating:\n",
      "Please use alternatives such as official/mnist/dataset.py from tensorflow/models.\n"
     ]
    },
    {
     "name": "stdout",
     "output_type": "stream",
     "text": [
      "Extracting /tmp/train-labels-idx1-ubyte.gz\n",
      "Extracting /tmp/t10k-images-idx3-ubyte.gz\n",
      "Extracting /tmp/t10k-labels-idx1-ubyte.gz\n"
     ]
    }
   ],
   "source": [
    "test_data_set = mnist_input_data.read_data_sets('/tmp').test"
   ]
  },
  {
   "cell_type": "code",
   "execution_count": 7,
   "metadata": {},
   "outputs": [],
   "source": [
    "# Test\n",
    "predict_request = PredictRequest(model_spec=model_spec)\n",
    "get_metadata_request = GetModelMetadataRequest(model_spec, 'signature_def')\n",
    "prediction_service = PredictionService('0.0.0.0:8500')"
   ]
  },
  {
   "cell_type": "code",
   "execution_count": 8,
   "metadata": {},
   "outputs": [],
   "source": [
    "predict_output_list = []\n",
    "actual_output_list = []\n",
    "metadata_output_list = []\n",
    "for _ in range(2):\n",
    "    image, label = test_data_set.next_batch(1)\n",
    "    predict_request.inputs = {'images' : image[0].reshape(1,-1)}\n",
    "    actual_output_list.append(label)\n",
    "    predict_output_list.append(prediction_service.predict(predict_request).parse_outputs())\n",
    "    metadata_output_list.append(prediction_service.get_model_metadata(get_metadata_request)) # not parsed :("
   ]
  },
  {
   "cell_type": "code",
   "execution_count": 9,
   "metadata": {},
   "outputs": [],
   "source": [
    "import numpy as np"
   ]
  },
  {
   "cell_type": "markdown",
   "metadata": {},
   "source": [
    "#### Truth vs Prediction"
   ]
  },
  {
   "cell_type": "code",
   "execution_count": 10,
   "metadata": {},
   "outputs": [
    {
     "name": "stdout",
     "output_type": "stream",
     "text": [
      "[1] [1]\n",
      "[6] [6]\n"
     ]
    }
   ],
   "source": [
    "for truth, pred in zip(actual_output_list, predict_output_list):\n",
    "    print(truth, np.argmax(pred['scores'], axis=-1))"
   ]
  },
  {
   "cell_type": "code",
   "execution_count": 11,
   "metadata": {},
   "outputs": [
    {
     "data": {
      "text/plain": [
       "[model_spec {\n",
       "   name: \"mnist\"\n",
       "   version {\n",
       "     value: 2\n",
       "   }\n",
       " }\n",
       " metadata {\n",
       "   key: \"signature_def\"\n",
       "   value {\n",
       "     type_url: \"type.googleapis.com/tensorflow.serving.SignatureDefMap\"\n",
       "     value: \"\\n\\305\\001\\n\\017serving_default\\022\\261\\001\\n\\036\\n\\006inputs\\022\\024\\n\\014tf_example:0\\020\\007\\032\\002\\030\\001\\022)\\n\\006scores\\022\\037\\n\\010TopKV2:0\\020\\001\\032\\021\\022\\013\\010\\377\\377\\377\\377\\377\\377\\377\\377\\377\\001\\022\\002\\010\\n\\022G\\n\\007classes\\022<\\n%hash_table_Lookup/LookupTableFindV2:0\\020\\007\\032\\021\\022\\013\\010\\377\\377\\377\\377\\377\\377\\377\\377\\377\\001\\022\\002\\010\\n\\032\\033tensorflow/serving/classify\\n{\\n\\016predict_images\\022i\\n%\\n\\006images\\022\\033\\n\\003x:0\\020\\001\\032\\022\\022\\013\\010\\377\\377\\377\\377\\377\\377\\377\\377\\377\\001\\022\\003\\010\\220\\006\\022$\\n\\006scores\\022\\032\\n\\003y:0\\020\\001\\032\\021\\022\\013\\010\\377\\377\\377\\377\\377\\377\\377\\377\\377\\001\\022\\002\\010\\n\\032\\032tensorflow/serving/predict\"\n",
       "   }\n",
       " }, model_spec {\n",
       "   name: \"mnist\"\n",
       "   version {\n",
       "     value: 2\n",
       "   }\n",
       " }\n",
       " metadata {\n",
       "   key: \"signature_def\"\n",
       "   value {\n",
       "     type_url: \"type.googleapis.com/tensorflow.serving.SignatureDefMap\"\n",
       "     value: \"\\n\\305\\001\\n\\017serving_default\\022\\261\\001\\n\\036\\n\\006inputs\\022\\024\\n\\014tf_example:0\\020\\007\\032\\002\\030\\001\\022)\\n\\006scores\\022\\037\\n\\010TopKV2:0\\020\\001\\032\\021\\022\\013\\010\\377\\377\\377\\377\\377\\377\\377\\377\\377\\001\\022\\002\\010\\n\\022G\\n\\007classes\\022<\\n%hash_table_Lookup/LookupTableFindV2:0\\020\\007\\032\\021\\022\\013\\010\\377\\377\\377\\377\\377\\377\\377\\377\\377\\001\\022\\002\\010\\n\\032\\033tensorflow/serving/classify\\n{\\n\\016predict_images\\022i\\n%\\n\\006images\\022\\033\\n\\003x:0\\020\\001\\032\\022\\022\\013\\010\\377\\377\\377\\377\\377\\377\\377\\377\\377\\001\\022\\003\\010\\220\\006\\022$\\n\\006scores\\022\\032\\n\\003y:0\\020\\001\\032\\021\\022\\013\\010\\377\\377\\377\\377\\377\\377\\377\\377\\377\\001\\022\\002\\010\\n\\032\\032tensorflow/serving/predict\"\n",
       "   }\n",
       " }]"
      ]
     },
     "execution_count": 11,
     "metadata": {},
     "output_type": "execute_result"
    }
   ],
   "source": [
    "metadata_output_list"
   ]
  },
  {
   "cell_type": "markdown",
   "metadata": {},
   "source": [
    "#### TODO: Parse `signature_def`"
   ]
  },
  {
   "cell_type": "markdown",
   "metadata": {},
   "source": [
    "### Testing `ModelService` API"
   ]
  },
  {
   "cell_type": "code",
   "execution_count": 12,
   "metadata": {},
   "outputs": [],
   "source": [
    "from config import *\n",
    "from sources import *"
   ]
  },
  {
   "cell_type": "code",
   "execution_count": 13,
   "metadata": {},
   "outputs": [],
   "source": [
    "version_policy_a = ServableVersionPolicy(specific=1)\n",
    "version_policy_b = ServableVersionPolicy(_all=1)"
   ]
  },
  {
   "cell_type": "code",
   "execution_count": 14,
   "metadata": {},
   "outputs": [],
   "source": [
    "model_config_a = ModelConfig(name='mnist', \n",
    "                             base_path='/models/mnist', \n",
    "                             model_platform='tensorflow', \n",
    "                             model_version_policy=version_policy_a)"
   ]
  },
  {
   "cell_type": "code",
   "execution_count": 15,
   "metadata": {},
   "outputs": [],
   "source": [
    "model_config_b = ModelConfig(name='mnist', \n",
    "                             base_path='/models/mnist', \n",
    "                             model_platform='tensorflow', \n",
    "                             model_version_policy=version_policy_b)"
   ]
  },
  {
   "cell_type": "markdown",
   "metadata": {},
   "source": [
    "### Running `A`, i.e. Load version #1"
   ]
  },
  {
   "cell_type": "markdown",
   "metadata": {},
   "source": [
    "#### Reload"
   ]
  },
  {
   "cell_type": "code",
   "execution_count": 17,
   "metadata": {},
   "outputs": [],
   "source": [
    "model_config_list = ModelConfigList(config=[model_config_a])\n",
    "model_server_config = ModelServerConfig(model_config_list=model_config_list)"
   ]
  },
  {
   "cell_type": "code",
   "execution_count": 18,
   "metadata": {},
   "outputs": [],
   "source": [
    "reload_config_request = ReloadConfigRequest(config=model_server_config)\n",
    "model_service = ModelService('0.0.0.0:8500')\n",
    "reload_config_response = model_service.reload_config(reload_config_request)"
   ]
  },
  {
   "cell_type": "code",
   "execution_count": 19,
   "metadata": {},
   "outputs": [
    {
     "data": {
      "text/plain": [
       "status {\n",
       "}"
      ]
     },
     "execution_count": 19,
     "metadata": {},
     "output_type": "execute_result"
    }
   ],
   "source": [
    "reload_config_response # if successful returns an empty status"
   ]
  },
  {
   "cell_type": "markdown",
   "metadata": {},
   "source": [
    "#### Get Status"
   ]
  },
  {
   "cell_type": "code",
   "execution_count": 20,
   "metadata": {},
   "outputs": [],
   "source": [
    "model_spec = ModelSpec(name='mnist', signature_name='predict_images')"
   ]
  },
  {
   "cell_type": "code",
   "execution_count": 22,
   "metadata": {},
   "outputs": [],
   "source": [
    "get_model_status_request = GetModelStatusRequest(model_spec=model_spec)"
   ]
  },
  {
   "cell_type": "code",
   "execution_count": 23,
   "metadata": {},
   "outputs": [],
   "source": [
    "get_model_status_response = model_service.get_model_status(get_model_status_request)"
   ]
  },
  {
   "cell_type": "code",
   "execution_count": 25,
   "metadata": {},
   "outputs": [
    {
     "data": {
      "text/plain": [
       "model_version_status {\n",
       "  version: 2\n",
       "  state: END\n",
       "  status {\n",
       "  }\n",
       "}\n",
       "model_version_status {\n",
       "  version: 1\n",
       "  state: AVAILABLE\n",
       "  status {\n",
       "  }\n",
       "}"
      ]
     },
     "execution_count": 25,
     "metadata": {},
     "output_type": "execute_result"
    }
   ],
   "source": [
    "get_model_status_response"
   ]
  },
  {
   "cell_type": "markdown",
   "metadata": {},
   "source": [
    "Version 1 is running and 2 has been taken down."
   ]
  },
  {
   "cell_type": "markdown",
   "metadata": {},
   "source": [
    "### Running `B`, i.e. Load all versions"
   ]
  },
  {
   "cell_type": "markdown",
   "metadata": {},
   "source": [
    "#### Reload"
   ]
  },
  {
   "cell_type": "code",
   "execution_count": 26,
   "metadata": {},
   "outputs": [],
   "source": [
    "model_config_list = ModelConfigList(config=[model_config_b])\n",
    "model_server_config = ModelServerConfig(model_config_list=model_config_list)"
   ]
  },
  {
   "cell_type": "code",
   "execution_count": 27,
   "metadata": {},
   "outputs": [],
   "source": [
    "reload_config_request = ReloadConfigRequest(config=model_server_config)\n",
    "model_service = ModelService('0.0.0.0:8500')\n",
    "reload_config_response = model_service.reload_config(reload_config_request)"
   ]
  },
  {
   "cell_type": "code",
   "execution_count": 28,
   "metadata": {},
   "outputs": [
    {
     "data": {
      "text/plain": [
       "status {\n",
       "}"
      ]
     },
     "execution_count": 28,
     "metadata": {},
     "output_type": "execute_result"
    }
   ],
   "source": [
    "reload_config_response # if successful returns an empty status"
   ]
  },
  {
   "cell_type": "markdown",
   "metadata": {},
   "source": [
    "#### Get Status"
   ]
  },
  {
   "cell_type": "code",
   "execution_count": 29,
   "metadata": {},
   "outputs": [],
   "source": [
    "model_spec = ModelSpec(name='mnist', signature_name='predict_images')"
   ]
  },
  {
   "cell_type": "code",
   "execution_count": 30,
   "metadata": {},
   "outputs": [],
   "source": [
    "get_model_status_request = GetModelStatusRequest(model_spec=model_spec)"
   ]
  },
  {
   "cell_type": "code",
   "execution_count": 31,
   "metadata": {},
   "outputs": [],
   "source": [
    "get_model_status_response = model_service.get_model_status(get_model_status_request)"
   ]
  },
  {
   "cell_type": "code",
   "execution_count": 32,
   "metadata": {},
   "outputs": [
    {
     "data": {
      "text/plain": [
       "model_version_status {\n",
       "  version: 2\n",
       "  state: AVAILABLE\n",
       "  status {\n",
       "  }\n",
       "}\n",
       "model_version_status {\n",
       "  version: 1\n",
       "  state: AVAILABLE\n",
       "  status {\n",
       "  }\n",
       "}"
      ]
     },
     "execution_count": 32,
     "metadata": {},
     "output_type": "execute_result"
    }
   ],
   "source": [
    "get_model_status_response"
   ]
  },
  {
   "cell_type": "markdown",
   "metadata": {},
   "source": [
    "Both the versions are running."
   ]
  },
  {
   "cell_type": "markdown",
   "metadata": {},
   "source": [
    "### Running config `C`, i.e. Unload all versions"
   ]
  },
  {
   "cell_type": "markdown",
   "metadata": {},
   "source": [
    "#### Reload"
   ]
  },
  {
   "cell_type": "code",
   "execution_count": 33,
   "metadata": {},
   "outputs": [],
   "source": [
    "model_server_config = ModelServerConfig()\n",
    "# it's important you initialize the config as empty, otherwise you'll get a gRPC error\n",
    "model_server_config.model_config_list.config = []  # sending an empty model_server_config"
   ]
  },
  {
   "cell_type": "code",
   "execution_count": 34,
   "metadata": {},
   "outputs": [],
   "source": [
    "reload_config_request = ReloadConfigRequest(config=model_server_config)\n",
    "model_service = ModelService('0.0.0.0:8500')\n",
    "reload_config_response = model_service.reload_config(reload_config_request)"
   ]
  },
  {
   "cell_type": "code",
   "execution_count": 35,
   "metadata": {},
   "outputs": [
    {
     "data": {
      "text/plain": [
       "status {\n",
       "}"
      ]
     },
     "execution_count": 35,
     "metadata": {},
     "output_type": "execute_result"
    }
   ],
   "source": [
    "reload_config_response # if successful returns an empty status"
   ]
  },
  {
   "cell_type": "markdown",
   "metadata": {},
   "source": [
    "#### Get Status"
   ]
  },
  {
   "cell_type": "code",
   "execution_count": 36,
   "metadata": {},
   "outputs": [],
   "source": [
    "model_spec = ModelSpec(name='mnist', signature_name='predict_images')"
   ]
  },
  {
   "cell_type": "code",
   "execution_count": 37,
   "metadata": {},
   "outputs": [],
   "source": [
    "get_model_status_request = GetModelStatusRequest(model_spec=model_spec)"
   ]
  },
  {
   "cell_type": "code",
   "execution_count": 38,
   "metadata": {},
   "outputs": [],
   "source": [
    "get_model_status_response = model_service.get_model_status(get_model_status_request)"
   ]
  },
  {
   "cell_type": "code",
   "execution_count": 39,
   "metadata": {},
   "outputs": [
    {
     "data": {
      "text/plain": [
       "model_version_status {\n",
       "  version: 2\n",
       "  state: END\n",
       "  status {\n",
       "  }\n",
       "}\n",
       "model_version_status {\n",
       "  version: 1\n",
       "  state: END\n",
       "  status {\n",
       "  }\n",
       "}"
      ]
     },
     "execution_count": 39,
     "metadata": {},
     "output_type": "execute_result"
    }
   ],
   "source": [
    "get_model_status_response"
   ]
  },
  {
   "cell_type": "markdown",
   "metadata": {},
   "source": [
    "All versions have been taken down."
   ]
  }
 ],
 "metadata": {
  "kernelspec": {
   "display_name": "Python 3",
   "language": "python",
   "name": "python3"
  },
  "language_info": {
   "codemirror_mode": {
    "name": "ipython",
    "version": 3
   },
   "file_extension": ".py",
   "mimetype": "text/x-python",
   "name": "python",
   "nbconvert_exporter": "python",
   "pygments_lexer": "ipython3",
   "version": "3.6.8"
  }
 },
 "nbformat": 4,
 "nbformat_minor": 4
}
