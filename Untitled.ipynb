{
 "cells": [
  {
   "cell_type": "code",
   "execution_count": 1,
   "metadata": {},
   "outputs": [],
   "source": [
    "from weakref import WeakKeyDictionary\n",
    "\n",
    "class NonNegative(object):\n",
    "    \"\"\"A descriptor that forbids negative values\"\"\"\n",
    "    def __init__(self, default):\n",
    "        self.default = default\n",
    "        self.data = WeakKeyDictionary()\n",
    "        \n",
    "    def __get__(self, instance, owner):\n",
    "        # we get here when someone calls x.d, and d is a NonNegative instance\n",
    "        # instance = x\n",
    "        # owner = type(x)\n",
    "        return self.data.get(instance, self.default)\n",
    "    \n",
    "    def __set__(self, instance, value):\n",
    "        # we get here when someone calls x.d = val, and d is a NonNegative instance\n",
    "        # instance = x\n",
    "        # value = val\n",
    "        if value < 0:\n",
    "            raise ValueError(\"Negative value not allowed: %s\" % value)\n",
    "        self.data[instance] = value\n",
    "\n",
    "        "
   ]
  },
  {
   "cell_type": "code",
   "execution_count": 2,
   "metadata": {},
   "outputs": [],
   "source": [
    "class Movie(object):\n",
    "    \n",
    "    #always put descriptors at the class-level\n",
    "    rating = NonNegative(0)\n",
    "    runtime = NonNegative(0)\n",
    "    budget = NonNegative(0)\n",
    "    gross = NonNegative(0)\n",
    "    \n",
    "    def __init__(self, title, rating, runtime, budget, gross):\n",
    "        self.title = title\n",
    "        self.rating = rating\n",
    "        self.runtime = runtime\n",
    "        self.budget = budget\n",
    "        self.gross = gross\n",
    "    \n",
    "    def profit(self):\n",
    "        return self.gross - self.budget\n",
    "    "
   ]
  },
  {
   "cell_type": "code",
   "execution_count": 3,
   "metadata": {},
   "outputs": [
    {
     "ename": "ValueError",
     "evalue": "Negative value not allowed: -1300000",
     "output_type": "error",
     "traceback": [
      "\u001b[0;31m---------------------------------------------------------------------------\u001b[0m",
      "\u001b[0;31mValueError\u001b[0m                                Traceback (most recent call last)",
      "\u001b[0;32m<ipython-input-3-1c5ebf49cdb5>\u001b[0m in \u001b[0;36m<module>\u001b[0;34m\u001b[0m\n\u001b[0;32m----> 1\u001b[0;31m \u001b[0mm\u001b[0m \u001b[0;34m=\u001b[0m \u001b[0mMovie\u001b[0m\u001b[0;34m(\u001b[0m\u001b[0;34m'Casablanca'\u001b[0m\u001b[0;34m,\u001b[0m \u001b[0;36m97\u001b[0m\u001b[0;34m,\u001b[0m \u001b[0;36m102\u001b[0m\u001b[0;34m,\u001b[0m \u001b[0;36m964000\u001b[0m\u001b[0;34m,\u001b[0m \u001b[0;34m-\u001b[0m\u001b[0;36m1300000\u001b[0m\u001b[0;34m)\u001b[0m\u001b[0;34m\u001b[0m\u001b[0;34m\u001b[0m\u001b[0m\n\u001b[0m",
      "\u001b[0;32m<ipython-input-2-b38d23cd7f70>\u001b[0m in \u001b[0;36m__init__\u001b[0;34m(self, title, rating, runtime, budget, gross)\u001b[0m\n\u001b[1;32m     12\u001b[0m         \u001b[0mself\u001b[0m\u001b[0;34m.\u001b[0m\u001b[0mruntime\u001b[0m \u001b[0;34m=\u001b[0m \u001b[0mruntime\u001b[0m\u001b[0;34m\u001b[0m\u001b[0;34m\u001b[0m\u001b[0m\n\u001b[1;32m     13\u001b[0m         \u001b[0mself\u001b[0m\u001b[0;34m.\u001b[0m\u001b[0mbudget\u001b[0m \u001b[0;34m=\u001b[0m \u001b[0mbudget\u001b[0m\u001b[0;34m\u001b[0m\u001b[0;34m\u001b[0m\u001b[0m\n\u001b[0;32m---> 14\u001b[0;31m         \u001b[0mself\u001b[0m\u001b[0;34m.\u001b[0m\u001b[0mgross\u001b[0m \u001b[0;34m=\u001b[0m \u001b[0mgross\u001b[0m\u001b[0;34m\u001b[0m\u001b[0;34m\u001b[0m\u001b[0m\n\u001b[0m\u001b[1;32m     15\u001b[0m \u001b[0;34m\u001b[0m\u001b[0m\n\u001b[1;32m     16\u001b[0m     \u001b[0;32mdef\u001b[0m \u001b[0mprofit\u001b[0m\u001b[0;34m(\u001b[0m\u001b[0mself\u001b[0m\u001b[0;34m)\u001b[0m\u001b[0;34m:\u001b[0m\u001b[0;34m\u001b[0m\u001b[0;34m\u001b[0m\u001b[0m\n",
      "\u001b[0;32m<ipython-input-1-d0a95464cd8c>\u001b[0m in \u001b[0;36m__set__\u001b[0;34m(self, instance, value)\u001b[0m\n\u001b[1;32m     18\u001b[0m         \u001b[0;31m# value = val\u001b[0m\u001b[0;34m\u001b[0m\u001b[0;34m\u001b[0m\u001b[0;34m\u001b[0m\u001b[0m\n\u001b[1;32m     19\u001b[0m         \u001b[0;32mif\u001b[0m \u001b[0mvalue\u001b[0m \u001b[0;34m<\u001b[0m \u001b[0;36m0\u001b[0m\u001b[0;34m:\u001b[0m\u001b[0;34m\u001b[0m\u001b[0;34m\u001b[0m\u001b[0m\n\u001b[0;32m---> 20\u001b[0;31m             \u001b[0;32mraise\u001b[0m \u001b[0mValueError\u001b[0m\u001b[0;34m(\u001b[0m\u001b[0;34m\"Negative value not allowed: %s\"\u001b[0m \u001b[0;34m%\u001b[0m \u001b[0mvalue\u001b[0m\u001b[0;34m)\u001b[0m\u001b[0;34m\u001b[0m\u001b[0;34m\u001b[0m\u001b[0m\n\u001b[0m\u001b[1;32m     21\u001b[0m         \u001b[0mself\u001b[0m\u001b[0;34m.\u001b[0m\u001b[0mdata\u001b[0m\u001b[0;34m[\u001b[0m\u001b[0minstance\u001b[0m\u001b[0;34m]\u001b[0m \u001b[0;34m=\u001b[0m \u001b[0mvalue\u001b[0m\u001b[0;34m\u001b[0m\u001b[0;34m\u001b[0m\u001b[0m\n\u001b[1;32m     22\u001b[0m \u001b[0;34m\u001b[0m\u001b[0m\n",
      "\u001b[0;31mValueError\u001b[0m: Negative value not allowed: -1300000"
     ]
    }
   ],
   "source": [
    "    \n",
    "m = Movie('Casablanca', 97, 102, 964000, -1300000)"
   ]
  },
  {
   "cell_type": "code",
   "execution_count": null,
   "metadata": {},
   "outputs": [],
   "source": [
    "print m.budget  # calls Movie.budget.__get__(m, Movie)\n",
    "m.rating = 100  # calls Movie.budget.__set__(m, 100)\n",
    "try:\n",
    "    m.rating = -1   # calls Movie.budget.__set__(m, -100)\n",
    "except ValueError:\n",
    "    print \"Woops, negative value\""
   ]
  }
 ],
 "metadata": {
  "kernelspec": {
   "display_name": "Python 3",
   "language": "python",
   "name": "python3"
  },
  "language_info": {
   "codemirror_mode": {
    "name": "ipython",
    "version": 3
   },
   "file_extension": ".py",
   "mimetype": "text/x-python",
   "name": "python",
   "nbconvert_exporter": "python",
   "pygments_lexer": "ipython3",
   "version": "3.6.8"
  }
 },
 "nbformat": 4,
 "nbformat_minor": 4
}
